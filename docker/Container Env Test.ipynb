{
 "cells": [
  {
   "attachments": {},
   "cell_type": "markdown",
   "metadata": {},
   "source": [
    "## Build Docker Container"
   ]
  },
  {
   "cell_type": "code",
   "execution_count": null,
   "metadata": {},
   "outputs": [],
   "source": [
    "% cd ~/SageMaker/aws-auto-training"
   ]
  },
  {
   "cell_type": "code",
   "execution_count": null,
   "metadata": {},
   "outputs": [],
   "source": [
    "! pwd"
   ]
  },
  {
   "cell_type": "code",
   "execution_count": null,
   "metadata": {},
   "outputs": [],
   "source": [
    "# Seoul Region Login\n",
    "! aws ecr get-login-password --region ap-northeast-2 | docker login --username AWS --password-stdin 763104351884.dkr.ecr.ap-northeast-2.amazonaws.com"
   ]
  },
  {
   "cell_type": "code",
   "execution_count": null,
   "metadata": {},
   "outputs": [],
   "source": [
    "! docker build -t pytorch-extended-container ."
   ]
  },
  {
   "attachments": {},
   "cell_type": "markdown",
   "metadata": {},
   "source": [
    "## Extended Container - Local Test"
   ]
  },
  {
   "cell_type": "code",
   "execution_count": null,
   "metadata": {},
   "outputs": [],
   "source": [
    "import argparse\n",
    "import os\n",
    "import sagemaker\n",
    "from sagemaker import get_execution_role\n",
    "from sagemaker.pytorch import PyTorch\n",
    "\n",
    "# Set up the Environment\n",
    "sagemaker_session = sagemaker.Session()\n",
    "\n",
    "# IAM role setting\n",
    "role = get_execution_role()\n",
    "\n",
    "# Create a training job using the PyTorch Estimator\n",
    "estimator = PyTorch(image_uri='pytorch-extended-container',\n",
    "                    entry_point='/home/ec2-user/SageMaker/aws-auto-training/train.py',\n",
    "                    source_dir='/home/ec2-user/SageMaker/aws-auto-training/',\n",
    "                    role=role,\n",
    "                    train_instance_count=1,\n",
    "                    train_instance_type='local', # local, ml.c5.xlarge, ml.p2.xlarge\n",
    "                    hyperparameters={\n",
    "                        \"epochs\": 5,\n",
    "                        \"backend\": \"gloo\"\n",
    "                    })\n",
    "\n",
    "# Calling `fit`\n",
    "estimator.fit({\"train\": \"s3://sagemaker-pytorch-metal/data/\"})"
   ]
  },
  {
   "attachments": {},
   "cell_type": "markdown",
   "metadata": {},
   "source": [
    "## Extended Container - ECR Test"
   ]
  },
  {
   "cell_type": "code",
   "execution_count": null,
   "metadata": {},
   "outputs": [],
   "source": [
    "! sh build_and_push.sh"
   ]
  },
  {
   "cell_type": "code",
   "execution_count": null,
   "metadata": {},
   "outputs": [],
   "source": [
    "import boto3\n",
    "\n",
    "client = boto3.client('sts')\n",
    "account = client.get_caller_identity()['Account']\n",
    "\n",
    "my_session = boto3.session.Session()\n",
    "region = my_session.region_name\n",
    "\n",
    "algorithm_name = \"pytorch-extended-container\"\n",
    "ecr_image=f'{account}.dkr.ecr.{region}.amazonaws.com/{algorithm_name}:latest'\n",
    "\n",
    "ecr_image"
   ]
  },
  {
   "cell_type": "code",
   "execution_count": null,
   "metadata": {},
   "outputs": [],
   "source": [
    "import argparse\n",
    "import os\n",
    "import sagemaker\n",
    "from sagemaker import get_execution_role\n",
    "from sagemaker.pytorch import PyTorch\n",
    "\n",
    "# Set up the Environment\n",
    "sagemaker_session = sagemaker.Session()\n",
    "\n",
    "# IAM role setting\n",
    "role = get_execution_role()\n",
    "\n",
    "# Create a training job using the PyTorch Estimator\n",
    "estimator = PyTorch(image_uri=ecr_image,\n",
    "                    entry_point='/home/ec2-user/SageMaker/aws-auto-training/train.py',\n",
    "                    source_dir='/home/ec2-user/SageMaker/aws-auto-training/',\n",
    "                    role=role,\n",
    "                    train_instance_count=1,\n",
    "                    train_instance_type='ml.c5.xlarge', # ml.c5.xlarge, ml.p2.xlarge,\n",
    "                    base_job_name='pytorch-extended-container', # prefix for training job name\n",
    "                    hyperparameters={\n",
    "                        \"epochs\": 5,\n",
    "                        \"backend\": \"gloo\"\n",
    "                    })\n",
    "\n",
    "# Calling `fit`\n",
    "estimator.fit({\"train\": \"s3://sagemaker-pytorch-metal/data/\"})"
   ]
  }
 ],
 "metadata": {
  "kernelspec": {
   "display_name": "Python 3",
   "language": "python",
   "name": "python3"
  },
  "language_info": {
   "name": "python",
   "version": "3.11.1 (tags/v3.11.1:a7a450f, Dec  6 2022, 19:58:39) [MSC v.1934 64 bit (AMD64)]"
  },
  "orig_nbformat": 4,
  "vscode": {
   "interpreter": {
    "hash": "c261aea317cc0286b3b3261fbba9abdec21eaa57589985bb7a274bf54d6cc0a7"
   }
  }
 },
 "nbformat": 4,
 "nbformat_minor": 2
}
